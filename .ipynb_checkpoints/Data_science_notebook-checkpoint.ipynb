{
 "cells": [
  {
   "cell_type": "code",
   "execution_count": 1,
   "id": "a3c8d9f7-9ab4-4112-bc4a-7ddb8cb92d36",
   "metadata": {},
   "outputs": [],
   "source": [
    "import pandas as pd"
   ]
  },
  {
   "cell_type": "code",
   "execution_count": 2,
   "id": "f4c9141c-9761-47c3-b393-e2d6906e6579",
   "metadata": {},
   "outputs": [],
   "source": [
    "path = \"C:\\\\Users\\\\LENOVO\\\\Documents\\\\Projetos\\\\Data_science\\\\cybersec_dataset\\\\cybersecurity_attacks.csv\"\n",
    "df = pd.read_csv(path)"
   ]
  },
  {
   "cell_type": "code",
   "execution_count": 3,
   "id": "af056d9c-3234-4566-bbf5-825f66518359",
   "metadata": {},
   "outputs": [
    {
     "name": "stdout",
     "output_type": "stream",
     "text": [
      "             Timestamp Source IP Address Destination IP Address  Source Port  \\\n",
      "0  2023-05-30 06:33:58     103.216.15.12           84.9.164.252        31225   \n",
      "1  2020-08-26 07:08:30    78.199.217.198         66.191.137.154        17245   \n",
      "2  2022-11-13 08:23:25      63.79.210.48          198.219.82.17        16811   \n",
      "3  2023-07-02 10:38:46     163.42.196.10        101.228.192.255        20018   \n",
      "4  2023-07-16 13:11:07     71.166.185.76        189.243.174.238         6131   \n",
      "\n",
      "   Destination Port Protocol  Packet Length Packet Type Traffic Type  \\\n",
      "0             17616     ICMP            503        Data         HTTP   \n",
      "1             48166     ICMP           1174        Data         HTTP   \n",
      "2             53600      UDP            306     Control         HTTP   \n",
      "3             32534      UDP            385        Data         HTTP   \n",
      "4             26646      TCP           1462        Data          DNS   \n",
      "\n",
      "                                        Payload Data  ... Action Taken  \\\n",
      "0  Qui natus odio asperiores nam. Optio nobis ius...  ...       Logged   \n",
      "1  Aperiam quos modi officiis veritatis rem. Omni...  ...      Blocked   \n",
      "2  Perferendis sapiente vitae soluta. Hic delectu...  ...      Ignored   \n",
      "3  Totam maxime beatae expedita explicabo porro l...  ...      Blocked   \n",
      "4  Odit nesciunt dolorem nisi iste iusto. Animi v...  ...      Blocked   \n",
      "\n",
      "   Severity Level User Information  \\\n",
      "0             Low    Reyansh Dugal   \n",
      "1             Low       Sumer Rana   \n",
      "2             Low     Himmat Karpe   \n",
      "3          Medium       Fateh Kibe   \n",
      "4             Low     Dhanush Chad   \n",
      "\n",
      "                                  Device Information Network Segment  \\\n",
      "0  Mozilla/5.0 (compatible; MSIE 8.0; Windows NT ...       Segment A   \n",
      "1  Mozilla/5.0 (compatible; MSIE 8.0; Windows NT ...       Segment B   \n",
      "2  Mozilla/5.0 (compatible; MSIE 9.0; Windows NT ...       Segment C   \n",
      "3  Mozilla/5.0 (Macintosh; PPC Mac OS X 10_11_5; ...       Segment B   \n",
      "4  Mozilla/5.0 (compatible; MSIE 5.0; Windows NT ...       Segment C   \n",
      "\n",
      "    Geo-location Data Proxy Information Firewall Logs IDS/IPS Alerts  \\\n",
      "0  Jamshedpur, Sikkim      150.9.97.135      Log Data            NaN   \n",
      "1  Bilaspur, Nagaland               NaN      Log Data            NaN   \n",
      "2   Bokaro, Rajasthan    114.133.48.179      Log Data     Alert Data   \n",
      "3  Jaunpur, Rajasthan               NaN           NaN     Alert Data   \n",
      "4  Anantapur, Tripura     149.6.110.119           NaN     Alert Data   \n",
      "\n",
      "  Log Source  \n",
      "0     Server  \n",
      "1   Firewall  \n",
      "2   Firewall  \n",
      "3   Firewall  \n",
      "4   Firewall  \n",
      "\n",
      "[5 rows x 25 columns]\n"
     ]
    }
   ],
   "source": [
    "print(df.head())"
   ]
  },
  {
   "cell_type": "code",
   "execution_count": null,
   "id": "244fa2be-b042-4967-a146-4c6a313d4e3d",
   "metadata": {},
   "outputs": [],
   "source": []
  }
 ],
 "metadata": {
  "kernelspec": {
   "display_name": "Python 3 (ipykernel)",
   "language": "python",
   "name": "python3"
  },
  "language_info": {
   "codemirror_mode": {
    "name": "ipython",
    "version": 3
   },
   "file_extension": ".py",
   "mimetype": "text/x-python",
   "name": "python",
   "nbconvert_exporter": "python",
   "pygments_lexer": "ipython3",
   "version": "3.12.10"
  }
 },
 "nbformat": 4,
 "nbformat_minor": 5
}
